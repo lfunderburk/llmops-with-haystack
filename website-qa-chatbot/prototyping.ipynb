{
 "cells": [
  {
   "cell_type": "code",
   "execution_count": null,
   "metadata": {},
   "outputs": [],
   "source": [
    "# link one https://www.gracedupage.org/about-us "
   ]
  },
  {
   "cell_type": "code",
   "execution_count": null,
   "metadata": {},
   "outputs": [],
   "source": [
    "from haystack.nodes import LinkContentFetcher\n",
    "from haystack.schema import Document\n",
    "from typing import List \n",
    "from haystack.document_stores import FAISSDocumentStore\n",
    "from haystack.nodes import AnswerParser, PromptNode, PromptTemplate\n",
    "from haystack import Pipeline\n",
    "from haystack.nodes import  DensePassageRetriever\n",
    "import os\n",
    "from dotenv import load_dotenv"
   ]
  },
  {
   "cell_type": "code",
   "execution_count": null,
   "metadata": {},
   "outputs": [],
   "source": [
    "def initialize_rag_pipeline(retriever, openai_key):\n",
    "    \"\"\"\n",
    "    Initialize a pipeline for RAG-based question answering.\n",
    "\n",
    "    Args:\n",
    "        retriever (DensePassageRetriever): Dense passage retriever.\n",
    "        openai_key (str): API key for OpenAI.\n",
    "\n",
    "    Returns:\n",
    "        query_pipeline (Pipeline): Pipeline for RAG-based question answering.\n",
    "    \"\"\"\n",
    "    prompt_template = PromptTemplate(prompt = \"\"\"\"Answer the following query based on the provided context. \\\n",
    "                                                If the context does\n",
    "                                                not include an answer, reply with 'The data does not contain information related to the question'.\\n\n",
    "                                                Query: {query}\\n\n",
    "                                                Documents: {join(documents)}\n",
    "                                                Answer: \n",
    "                                            \"\"\",\n",
    "                                            output_parser=AnswerParser())\n",
    "    prompt_node = PromptNode(model_name_or_path = \"gpt-4\",\n",
    "                            api_key = openai_key,\n",
    "                            default_prompt_template = prompt_template,\n",
    "                            max_length = 500,\n",
    "                            model_kwargs={\"stream\":True})\n",
    "\n",
    "    query_pipeline = Pipeline()\n",
    "    query_pipeline.add_node(component=retriever, name=\"Retriever\", inputs=[\"Query\"])\n",
    "    query_pipeline.add_node(component=prompt_node, name=\"PromptNode\", inputs=[\"Retriever\"])\n",
    "\n",
    "    return query_pipeline"
   ]
  },
  {
   "cell_type": "code",
   "execution_count": null,
   "metadata": {},
   "outputs": [],
   "source": [
    "load_dotenv(\"../.env\")\n",
    "openai_key = os.getenv(\"OPENAI_API_KEY\")\n"
   ]
  },
  {
   "cell_type": "code",
   "execution_count": null,
   "metadata": {},
   "outputs": [],
   "source": [
    "# Initialize document store\n",
    "document_store = FAISSDocumentStore(faiss_index_factory_str=\"Flat\", return_embedding=True)\n",
    "\n",
    "retriever = DensePassageRetriever(\n",
    "            document_store=document_store,\n",
    "            query_embedding_model=\"facebook/dpr-question_encoder-single-nq-base\",\n",
    "            passage_embedding_model=\"facebook/dpr-ctx_encoder-single-nq-base\",\n",
    "            use_gpu=True,\n",
    "            embed_title=True,\n",
    ")"
   ]
  },
  {
   "cell_type": "code",
   "execution_count": null,
   "metadata": {},
   "outputs": [],
   "source": [
    "link_content_fetcher = LinkContentFetcher()\n",
    "documents = []\n",
    "all_documents = []\n",
    "link_list = [\"https://www.gracedupage.org/about-us\",\n",
    "                'https://www.gracedupage.org/who-is-jesus',\n",
    "                'https://www.gracedupage.org/purpose',\n",
    "                'https://www.gracedupage.org/history',\n",
    "                'https://www.gracedupage.org/pastoral-ministries',\n",
    "                'https://www.gracedupage.org/leadership',\n",
    "                'https://www.gracedupage.org/baptism-and-membership']\n",
    "\n",
    "for link in link_list:\n",
    "    documents : List[Document] = link_content_fetcher.fetch(url=link)\n",
    "    document_store.write_documents(documents)\n",
    "    all_documents.append(documents)\n",
    "\n",
    "document_store.delete_documents()\n",
    "document_store.write_documents(documents)\n",
    "\n",
    "# Add documents embeddings to index\n",
    "document_store.update_embeddings(retriever=retriever, batch_size = 2000)"
   ]
  },
  {
   "cell_type": "code",
   "execution_count": null,
   "metadata": {},
   "outputs": [],
   "source": [
    "# Initialize pipeline\n",
    "query_pipeline = initialize_rag_pipeline(retriever=retriever, openai_key=openai_key)\n"
   ]
  },
  {
   "cell_type": "code",
   "execution_count": null,
   "metadata": {},
   "outputs": [],
   "source": [
    "answer = query_pipeline.run(query=\"What is the purpose of Grace Church?\", documents=all_documents)"
   ]
  },
  {
   "cell_type": "code",
   "execution_count": null,
   "metadata": {},
   "outputs": [],
   "source": [
    "documents"
   ]
  },
  {
   "cell_type": "code",
   "execution_count": null,
   "metadata": {},
   "outputs": [],
   "source": [
    "answer['answers'][0].answer"
   ]
  },
  {
   "cell_type": "code",
   "execution_count": null,
   "metadata": {},
   "outputs": [],
   "source": [
    "answer['answers'][0].answer"
   ]
  },
  {
   "cell_type": "code",
   "execution_count": null,
   "metadata": {},
   "outputs": [],
   "source": [
    "answer.keys()"
   ]
  },
  {
   "cell_type": "code",
   "execution_count": null,
   "metadata": {},
   "outputs": [],
   "source": [
    "for key in answer:\n",
    "    print(key)"
   ]
  },
  {
   "cell_type": "code",
   "execution_count": null,
   "metadata": {},
   "outputs": [],
   "source": [
    "answer"
   ]
  },
  {
   "cell_type": "code",
   "execution_count": null,
   "metadata": {},
   "outputs": [],
   "source": [
    "for item in answer['documents']:\n",
    "    print(item.meta)"
   ]
  },
  {
   "cell_type": "code",
   "execution_count": null,
   "metadata": {},
   "outputs": [],
   "source": [
    "answer2 = query_pipeline.run(query=\"How did Grace Church of DuPage begin\", documents=documents)"
   ]
  },
  {
   "cell_type": "code",
   "execution_count": null,
   "metadata": {},
   "outputs": [],
   "source": [
    "for item in answer2['documents']:\n",
    "    print(item.meta)"
   ]
  },
  {
   "cell_type": "code",
   "execution_count": null,
   "metadata": {},
   "outputs": [],
   "source": [
    "answer2['answers'][0]"
   ]
  },
  {
   "cell_type": "code",
   "execution_count": null,
   "metadata": {},
   "outputs": [],
   "source": [
    "answer3 = query_pipeline.run(query=\"What God Does For Us\", documents=documents)"
   ]
  },
  {
   "cell_type": "code",
   "execution_count": null,
   "metadata": {},
   "outputs": [],
   "source": [
    "for item in answer3['documents']:\n",
    "    print(item.meta)"
   ]
  },
  {
   "cell_type": "code",
   "execution_count": null,
   "metadata": {},
   "outputs": [],
   "source": []
  }
 ],
 "metadata": {
  "kernelspec": {
   "display_name": "llm-pipelines",
   "language": "python",
   "name": "python3"
  },
  "language_info": {
   "codemirror_mode": {
    "name": "ipython",
    "version": 3
   },
   "file_extension": ".py",
   "mimetype": "text/x-python",
   "name": "python",
   "nbconvert_exporter": "python",
   "pygments_lexer": "ipython3",
   "version": "3.10.0"
  }
 },
 "nbformat": 4,
 "nbformat_minor": 2
}
