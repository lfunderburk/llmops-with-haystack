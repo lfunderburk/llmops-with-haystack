{
 "cells": [
  {
   "cell_type": "code",
   "execution_count": null,
   "metadata": {},
   "outputs": [],
   "source": [
    "# link one https://www.gracedupage.org/about-us "
   ]
  },
  {
   "cell_type": "code",
   "execution_count": 8,
   "metadata": {},
   "outputs": [],
   "source": [
    "from haystack.nodes import LinkContentFetcher\n",
    "from haystack.schema import Document\n",
    "from typing import List \n",
    "from haystack.document_stores import FAISSDocumentStore\n",
    "from haystack.nodes import AnswerParser, PromptNode, PromptTemplate\n",
    "from haystack import Pipeline\n",
    "from haystack.nodes import  DensePassageRetriever, EmbeddingRetriever\n",
    "import os\n",
    "from dotenv import load_dotenv"
   ]
  },
  {
   "cell_type": "code",
   "execution_count": 2,
   "metadata": {},
   "outputs": [],
   "source": [
    "def initialize_rag_pipeline(retriever, openai_key):\n",
    "    \"\"\"\n",
    "    Initialize a pipeline for RAG-based question answering.\n",
    "\n",
    "    Args:\n",
    "        retriever (DensePassageRetriever): Dense passage retriever.\n",
    "        openai_key (str): API key for OpenAI.\n",
    "\n",
    "    Returns:\n",
    "        query_pipeline (Pipeline): Pipeline for RAG-based question answering.\n",
    "    \"\"\"\n",
    "    prompt_template = PromptTemplate(prompt = \"\"\"\"Answer the following query based on the provided context. \\\n",
    "                                                Documents: {documents}\\n\n",
    "                                                Query: {query}\\n\n",
    "                                                Answer: \n",
    "                                            \"\"\",\n",
    "                                            output_parser=AnswerParser())\n",
    "    prompt_node = PromptNode(model_name_or_path = \"gpt-4\", #https://rmm2064ls3doz1on.us-east-1.aws.endpoints.huggingface.cloud\",\n",
    "                            api_key = openai_key,\n",
    "                            default_prompt_template = prompt_template, \n",
    "                            max_length = 4054,\n",
    "                            model_kwargs={\"stream\":True},\n",
    "                            debug=True)\n",
    "\n",
    "    query_pipeline = Pipeline()\n",
    "    query_pipeline.add_node(component=retriever, name=\"Retriever\", inputs=[\"Query\"])\n",
    "    query_pipeline.add_node(component=prompt_node, name=\"PromptNode\", inputs=[\"Retriever\"])\n",
    "\n",
    "    return query_pipeline"
   ]
  },
  {
   "cell_type": "code",
   "execution_count": 3,
   "metadata": {},
   "outputs": [],
   "source": [
    "load_dotenv(\"../.env\")\n",
    "openai_key = os.getenv(\"OPENAI_API_KEY\")\n"
   ]
  },
  {
   "cell_type": "code",
   "execution_count": 4,
   "metadata": {},
   "outputs": [
    {
     "name": "stderr",
     "output_type": "stream",
     "text": [
      "/Users/macpro/anaconda3/envs/llm-pipelines/lib/python3.10/site-packages/torch/_utils.py:831: UserWarning: TypedStorage is deprecated. It will be removed in the future and UntypedStorage will be the only storage class. This should only matter to you if you are using storages directly.  To access UntypedStorage directly, use tensor.untyped_storage() instead of tensor.storage()\n",
      "  return self.fget.__get__(instance, owner)()\n"
     ]
    }
   ],
   "source": [
    "# Initialize document store\n",
    "document_store = FAISSDocumentStore(faiss_index_factory_str=\"Flat\", return_embedding=True)\n",
    "retriever = DensePassageRetriever(\n",
    "                document_store=document_store,\n",
    "                query_embedding_model=\"facebook/dpr-question_encoder-single-nq-base\",\n",
    "                passage_embedding_model=\"facebook/dpr-ctx_encoder-single-nq-base\",\n",
    "                use_gpu=True,\n",
    "                embed_title=True,\n",
    "                batch_size=16,\n",
    "    )"
   ]
  },
  {
   "cell_type": "code",
   "execution_count": 5,
   "metadata": {},
   "outputs": [
    {
     "name": "stderr",
     "output_type": "stream",
     "text": [
      "Writing Documents: 10000it [00:00, 356077.15it/s]       \n",
      "Writing Documents: 10000it [00:00, 876644.16it/s]       \n",
      "Writing Documents: 10000it [00:00, 2004446.36it/s]      \n",
      "Writing Documents: 10000it [00:00, 2011656.59it/s]      \n",
      "Writing Documents: 10000it [00:00, 2270627.98it/s]      \n",
      "Writing Documents: 10000it [00:00, 1890688.78it/s]      \n",
      "Writing Documents: 10000it [00:00, 1823531.15it/s]      \n",
      "Documents Processed: 10000 docs [00:04, 2336.68 docs/s]      \n"
     ]
    }
   ],
   "source": [
    "def scrape_web_links(link_list):\n",
    "    \"\"\"\n",
    "    Scrape the web links provided in the list and return the documents.\n",
    "\n",
    "    Args:\n",
    "        link_list (List[str]): List of links to scrape.\n",
    "\n",
    "    Returns:\n",
    "        all_documents (List[List[Document]]): List of documents for each link.\n",
    "    \"\"\"\n",
    "    link_content_fetcher = LinkContentFetcher()\n",
    "    documents = []\n",
    "    all_documents = []\n",
    "\n",
    "    for link in link_list:\n",
    "        documents : List[Document] = link_content_fetcher.fetch(url=link)\n",
    "        document_store.write_documents(documents)\n",
    "        all_documents.append(documents)\n",
    "\n",
    "    return document_store, all_documents\n",
    "\n",
    "# Scrape the web links\n",
    "link_list = [\"https://www.gracedupage.org/about-us\",\n",
    "                'https://www.gracedupage.org/who-is-jesus',\n",
    "                'https://www.gracedupage.org/purpose',\n",
    "                'https://www.gracedupage.org/history',\n",
    "                'https://www.gracedupage.org/pastoral-ministries',\n",
    "                'https://www.gracedupage.org/leadership',\n",
    "                'https://www.gracedupage.org/baptism-and-membership']\n",
    "\n",
    "document_store, all_documents = scrape_web_links(link_list)\n",
    "\n",
    "# Add documents embeddings to index\n",
    "document_store.update_embeddings(retriever=retriever)"
   ]
  },
  {
   "cell_type": "code",
   "execution_count": 6,
   "metadata": {},
   "outputs": [],
   "source": [
    "from haystack.nodes import PreProcessor\n",
    "\n",
    "preprocessor = PreProcessor(\n",
    "    clean_empty_lines=True,\n",
    "    clean_whitespace=True,\n",
    "    clean_header_footer=False,\n",
    "    split_by=\"word\",\n",
    "    split_length=100,\n",
    "    split_respect_sentence_boundary=True,\n",
    ")"
   ]
  },
  {
   "cell_type": "code",
   "execution_count": null,
   "metadata": {},
   "outputs": [],
   "source": [
    "\n",
    "docs_nrsb = preprocessor.process(all_documents)"
   ]
  },
  {
   "cell_type": "code",
   "execution_count": null,
   "metadata": {},
   "outputs": [],
   "source": [
    "document_store.get_all_documents()"
   ]
  },
  {
   "cell_type": "code",
   "execution_count": 9,
   "metadata": {},
   "outputs": [],
   "source": [
    "# Initialize pipeline\n",
    "query_pipeline = initialize_rag_pipeline(retriever=retriever, openai_key= openai_key)\n"
   ]
  },
  {
   "cell_type": "code",
   "execution_count": null,
   "metadata": {},
   "outputs": [],
   "source": [
    "answer = query_pipeline.run(query=\"Hello\")"
   ]
  },
  {
   "cell_type": "code",
   "execution_count": null,
   "metadata": {},
   "outputs": [],
   "source": [
    "document_store."
   ]
  },
  {
   "cell_type": "code",
   "execution_count": 10,
   "metadata": {},
   "outputs": [
    {
     "name": "stdout",
     "output_type": "stream",
     "text": [
      "According to the documents, God created man in His image and likeness, free of sin with a rational nature, intelligence, volition, self-determination, and moral responsibility. God's purpose in creating man was for them to glorify Him, enjoy His fellowship, live in His will, multiply and fill the world with faith-filled image bearers, and reflect His benevolent kingship. However, after the sin of Adam, man lost their innocence and became subject to the wrath of God. Yet, God provides salvation through His grace and the redemptive work of Jesus Christ.The document does not provide specific information on what God does for us.The documents do not provide specific information on what God does for us.God equips certain people with unique gifts to serve as \"shepherds\" or \"teachers\" within the church community. These individuals are meant to guide and care for God's people, helping them grow towards spiritual maturity, stability, unity, and love. They serve God and one another towards a deeper understanding and engagement in the truths of the Christian faith. This care is reflected in various ministries and programs at the church.God does various things for us. According to the documents, He provides salvation, which is wholly of God by grace on the basis of the redemption of Jesus Christ, and not on the basis of human merit or works. God also elects those He graciously regenerates, saves, and sanctifies. God's grace includes the means of receiving the gift of salvation. \n",
      "\n",
      "God also regenerates us, which is a supernatural work of the Holy Spirit in which spiritually dead people are made spiritually alive. This regeneration leads to repentance of sins and faith in Jesus Christ. \n",
      "\n",
      "God justifies us, declaring us righteous through faith in Christ, the result of which involves the imputation of our sins to Christ and the imputation of Christ’s righteousness to us. \n",
      "\n",
      "God sanctifies us, setting us apart unto Him by justification and is therefore declared to be holy. The Holy Spirit also causes a progressive sanctification in which every believer grows in personal holiness. \n",
      "\n",
      "Lastly, God secures all the redeemed, once saved, they are kept by God’s power and are thus secure in Christ forever.The document suggests that God provides guidance, leads believers forward, and helps them grow in their love for His word. He also uses events and activities to draw people to Himself. Furthermore, God fills the hearts of believers with a desire to see Him glorified in their lives and provides opportunities to glorify Him through the proclamation of His saving grace.According to the church's teachings, God magnifies His worth through the exaltation of the Savior, equipping of the saints, and extending of Christ's kingdom. He places those who have faith in Jesus Christ into one united spiritual body, the church. God also gives the church spiritual gifts and unique and special spiritual abilities to each member of the body of Christ. He heals and performs providential miracles. Furthermore, God cooperates with the church as He accomplishes His purpose in the world."
     ]
    }
   ],
   "source": [
    "answer3 = query_pipeline.run(query=\"What God Does For Us\", documents=document_store.get_all_documents())"
   ]
  },
  {
   "cell_type": "code",
   "execution_count": null,
   "metadata": {},
   "outputs": [],
   "source": [
    "answer3['answers'][0].answer +\"\\n\"+ f\"Context retrieved from: {answer3['documents'][0].meta['url']} with vector id: {answer3['documents'][0].meta['vector_id']}\""
   ]
  },
  {
   "cell_type": "code",
   "execution_count": null,
   "metadata": {},
   "outputs": [],
   "source": [
    "answer3['documents'][0].meta"
   ]
  },
  {
   "cell_type": "code",
   "execution_count": null,
   "metadata": {},
   "outputs": [],
   "source": [
    "for item in answer3['documents']:\n",
    "    print(item.meta)"
   ]
  },
  {
   "cell_type": "code",
   "execution_count": null,
   "metadata": {},
   "outputs": [],
   "source": []
  }
 ],
 "metadata": {
  "kernelspec": {
   "display_name": "llm-pipelines",
   "language": "python",
   "name": "python3"
  },
  "language_info": {
   "codemirror_mode": {
    "name": "ipython",
    "version": 3
   },
   "file_extension": ".py",
   "mimetype": "text/x-python",
   "name": "python",
   "nbconvert_exporter": "python",
   "pygments_lexer": "ipython3",
   "version": "3.10.0"
  }
 },
 "nbformat": 4,
 "nbformat_minor": 2
}
