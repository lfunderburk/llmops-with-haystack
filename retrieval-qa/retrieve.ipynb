{
 "cells": [
  {
   "cell_type": "code",
   "execution_count": 9,
   "metadata": {},
   "outputs": [],
   "source": [
    "from haystack.nodes import WebRetriever\n",
    "from haystack.schema import Document\n",
    "from typing import List \n",
    "from haystack.document_stores import FAISSDocumentStore\n",
    "from haystack.nodes import AnswerParser, PromptNode, PromptTemplate\n",
    "from haystack import Pipeline\n",
    "from haystack.nodes import  DensePassageRetriever\n",
    "import os\n",
    "from dotenv import load_dotenv\n",
    "\n",
    "# Load environment variables (if any)\n",
    "load_dotenv(\"../.env\")\n",
    "serp = os.getenv(\"SERP_API_KEY\")\n",
    "openai_key = os.getenv(\"OPENAI_API_KEY\")"
   ]
  },
  {
   "cell_type": "code",
   "execution_count": 10,
   "metadata": {},
   "outputs": [],
   "source": [
    "def initialize_documents(serp_key, nl_query):\n",
    "    \"\"\"\n",
    "    Initialize documents retrieved from the SERP API.\n",
    "\n",
    "    Args:\n",
    "        serp_key (str): API key for the SERP API.\n",
    "        nl_query (str): Natural language query to retrieve documents for.\n",
    "        \n",
    "    \"\"\"\n",
    "     # Initialize WebRetriever\n",
    "    retriever = WebRetriever(api_key=serp_key, \n",
    "                            mode=\"preprocessed_documents\",\n",
    "                            top_k=100)\n",
    "\n",
    "    # Retrieve documents based a natural language query\n",
    "    documents : List[Document] = retriever.retrieve(query=nl_query)\n",
    "\n",
    "    return documents\n",
    "\n",
    "def initialize_faiss_document_store(documents):\n",
    "    \"\"\"\n",
    "    Initialize a FAISS document store and retriever.\n",
    "\n",
    "    Args:\n",
    "        documents (List[Document]): List of documents to be stored in the document store.\n",
    "\n",
    "    Returns:\n",
    "        document_store (FAISSDocumentStore): FAISS document store.\n",
    "        retriever (DensePassageRetriever): Dense passage retriever.\n",
    "    \"\"\"\n",
    "    \n",
    "    # Initialize document store\n",
    "    document_store = FAISSDocumentStore(faiss_index_factory_str=\"Flat\", return_embedding=True)\n",
    "\n",
    "    retriever = DensePassageRetriever(\n",
    "                document_store=document_store,\n",
    "                query_embedding_model=\"facebook/dpr-question_encoder-single-nq-base\",\n",
    "                passage_embedding_model=\"facebook/dpr-ctx_encoder-single-nq-base\",\n",
    "                use_gpu=True,\n",
    "                embed_title=True,\n",
    "    )\n",
    "\n",
    "    # Delete existing documents in document store\n",
    "    document_store.delete_documents()\n",
    "    document_store.write_documents(documents)\n",
    "\n",
    "    # Add documents embeddings to index\n",
    "    document_store.update_embeddings(retriever=retriever)\n",
    "\n",
    "    return document_store, retriever\n",
    "\n",
    "def initialize_rag_pipeline(document_store, retriever, openai_key):\n",
    "    \"\"\"\n",
    "    Initialize a pipeline for RAG-based question answering.\n",
    "\n",
    "    Args:\n",
    "        document_store (FAISSDocumentStore): FAISS document store.\n",
    "        retriever (DensePassageRetriever): Dense passage retriever.\n",
    "        openai_key (str): API key for OpenAI.\n",
    "\n",
    "    Returns:\n",
    "        query_pipeline (Pipeline): Pipeline for RAG-based question answering.\n",
    "    \"\"\"\n",
    "    prompt_template = PromptTemplate(prompt = \"\"\"\"Answer the following query based on the provided context. If the context does\n",
    "                                                not include an answer, reply with 'The data does not contain information related to the question'.\\n\n",
    "                                                Query: {query}\\n\n",
    "                                                Documents: {join(documents)}\n",
    "                                                Answer: \n",
    "                                            \"\"\",\n",
    "                                            output_parser=AnswerParser())\n",
    "    prompt_node = PromptNode(model_name_or_path = \"gpt-4\",\n",
    "                            api_key = openai_key,\n",
    "                            default_prompt_template = prompt_template)\n",
    "\n",
    "    query_pipeline = Pipeline()\n",
    "    query_pipeline.add_node(component=retriever, name=\"Retriever\", inputs=[\"Query\"])\n",
    "    query_pipeline.add_node(component=prompt_node, name=\"PromptNode\", inputs=[\"Retriever\"])\n",
    "\n",
    "    return query_pipeline"
   ]
  },
  {
   "cell_type": "code",
   "execution_count": 11,
   "metadata": {},
   "outputs": [
    {
     "name": "stderr",
     "output_type": "stream",
     "text": [
      "Writing Documents: 10000it [00:00, 44002.81it/s]         \n",
      "Documents Processed: 10000 docs [00:20, 497.08 docs/s]        \n"
     ]
    }
   ],
   "source": [
    "# Initialize documents\n",
    "documents = initialize_documents(serp_key=serp, nl_query=\"IMDB movie reviews for the Barbie movie (2023)\")\n",
    "\n",
    "# Initialize document store and retriever\n",
    "document_store, retriever = initialize_faiss_document_store(documents=documents)\n",
    "\n",
    "# Initialize pipeline\n",
    "query_pipeline = initialize_rag_pipeline(document_store=document_store, retriever=retriever, openai_key=openai_key)"
   ]
  },
  {
   "cell_type": "code",
   "execution_count": 12,
   "metadata": {},
   "outputs": [
    {
     "name": "stderr",
     "output_type": "stream",
     "text": [
      "1 out of the 1 completions have been truncated before reaching a natural stopping point. Increase the max_tokens parameter to allow for longer completions.\n"
     ]
    },
    {
     "name": "stdout",
     "output_type": "stream",
     "text": [
      "CPU times: user 1.3 s, sys: 950 ms, total: 2.25 s\n",
      "Wall time: 6.69 s\n"
     ]
    },
    {
     "data": {
      "text/plain": [
       "{'answers': [<Answer {'answer': 'The Barbie movie is a fantasy comedy set in Barbie Land, a place where Barbie, played by Margot Robbie, is having the best day every day, in the company of other Barbies and Kens, played by Ryan Gosling. The movie presents a world where Barbie can be anything - a President, a Physicist, a Journalist, a Lawyer, or a Mermaid. The plot is set in motion when Barbie begins having thoughts about death and, normally suspended in the state of standing', 'type': 'generative', 'score': None, 'context': None, 'offsets_in_document': None, 'offsets_in_context': None, 'document_ids': ['d50b5a310e8a57379d2ae6556fe6b8f'], 'meta': {'prompt': \"Answer the following query based on the provided context. If the context does\\n                                                not include an answer, reply with 'The data does not contain information related to the question'.\\n\\n                                                Query: What is the Barbie movie about\\n\\n                                                Documents: Both were about girls on the precipice of adolescence, both had nuanced and layered portrayals of mother-daughter relationships, both combined imaginative visuals with clever dialogue. Both were very, very good. Given those credentials, one may expect Barbie to be as intelligent, convincing and amusing a picture - and, well, it isn't.The fantasy comedy begins in Barbie Land, a place where Barbie (played by Margot Robbie ) is having the best day every day, in the company of other Barbies and, occasionally, Kens. The designs, costumes, and cinematography do an excellent job re-creating the Mattel vision in its pink plastic perfection. The introduction is referential but not overtly reliant on what is external to the film; it is smartly self-aware and presents a world where Barbie can be anything - a President, a Physicist, a Journalist, a Lawyer, or a Mermaid. Much like with the original toys, Ken ( Ryan Gosling ) comes as an afterthought and 'only exists within the warmth of Barbie's gaze'.The plot is set in motion when Barbie begins having thoughts about death and, normally suspended in the state of standing on the balls of her feet, she feels her heels hit the ground. \\n                                                Answer: \\n                                            \"}}>],\n",
       " 'invocation_context': {'query': 'What is the Barbie movie about',\n",
       "  'documents': [<Document: {'content': \"Both were about girls on the precipice of adolescence, both had nuanced and layered portrayals of mother-daughter relationships, both combined imaginative visuals with clever dialogue. Both were very, very good. Given those credentials, one may expect Barbie to be as intelligent, convincing and amusing a picture - and, well, it isn't.The fantasy comedy begins in Barbie Land, a place where Barbie (played by Margot Robbie ) is having the best day every day, in the company of other Barbies and, occasionally, Kens. The designs, costumes, and cinematography do an excellent job re-creating the Mattel vision in its pink plastic perfection. The introduction is referential but not overtly reliant on what is external to the film; it is smartly self-aware and presents a world where Barbie can be anything - a President, a Physicist, a Journalist, a Lawyer, or a Mermaid. Much like with the original toys, Ken ( Ryan Gosling ) comes as an afterthought and 'only exists within the warmth of Barbie's gaze'.The plot is set in motion when Barbie begins having thoughts about death and, normally suspended in the state of standing on the balls of her feet, she feels her heels hit the ground. \", 'content_type': 'text', 'score': 0.6831885268399944, 'meta': {'url': 'https://imdb.com/title/tt1517268/reviews/', 'timestamp': 1696682003, 'search.score': 0.09473684210526317, 'search.position': 1, 'snippet_text': \"The quality, the humor, and the writing of the movie is fun for a while. It's quirky and it's unique. When they get into the weeds and try to explore deeper ...\", '_split_id': 1, 'vector_id': '44'}, 'id_hash_keys': ['content'], 'embedding': '<embedding of shape (768,)>', 'id': 'd50b5a310e8a57379d2ae6556fe6b8f'}>],\n",
       "  'answers': [<Answer {'answer': 'The Barbie movie is a fantasy comedy set in Barbie Land, a place where Barbie, played by Margot Robbie, is having the best day every day, in the company of other Barbies and Kens, played by Ryan Gosling. The movie presents a world where Barbie can be anything - a President, a Physicist, a Journalist, a Lawyer, or a Mermaid. The plot is set in motion when Barbie begins having thoughts about death and, normally suspended in the state of standing', 'type': 'generative', 'score': None, 'context': None, 'offsets_in_document': None, 'offsets_in_context': None, 'document_ids': ['d50b5a310e8a57379d2ae6556fe6b8f'], 'meta': {'prompt': \"Answer the following query based on the provided context. If the context does\\n                                                not include an answer, reply with 'The data does not contain information related to the question'.\\n\\n                                                Query: What is the Barbie movie about\\n\\n                                                Documents: Both were about girls on the precipice of adolescence, both had nuanced and layered portrayals of mother-daughter relationships, both combined imaginative visuals with clever dialogue. Both were very, very good. Given those credentials, one may expect Barbie to be as intelligent, convincing and amusing a picture - and, well, it isn't.The fantasy comedy begins in Barbie Land, a place where Barbie (played by Margot Robbie ) is having the best day every day, in the company of other Barbies and, occasionally, Kens. The designs, costumes, and cinematography do an excellent job re-creating the Mattel vision in its pink plastic perfection. The introduction is referential but not overtly reliant on what is external to the film; it is smartly self-aware and presents a world where Barbie can be anything - a President, a Physicist, a Journalist, a Lawyer, or a Mermaid. Much like with the original toys, Ken ( Ryan Gosling ) comes as an afterthought and 'only exists within the warmth of Barbie's gaze'.The plot is set in motion when Barbie begins having thoughts about death and, normally suspended in the state of standing on the balls of her feet, she feels her heels hit the ground. \\n                                                Answer: \\n                                            \"}}>],\n",
       "  'prompts': [\"Answer the following query based on the provided context. If the context does\\n                                                not include an answer, reply with 'The data does not contain information related to the question'.\\n\\n                                                Query: What is the Barbie movie about\\n\\n                                                Documents: Both were about girls on the precipice of adolescence, both had nuanced and layered portrayals of mother-daughter relationships, both combined imaginative visuals with clever dialogue. Both were very, very good. Given those credentials, one may expect Barbie to be as intelligent, convincing and amusing a picture - and, well, it isn't.The fantasy comedy begins in Barbie Land, a place where Barbie (played by Margot Robbie ) is having the best day every day, in the company of other Barbies and, occasionally, Kens. The designs, costumes, and cinematography do an excellent job re-creating the Mattel vision in its pink plastic perfection. The introduction is referential but not overtly reliant on what is external to the film; it is smartly self-aware and presents a world where Barbie can be anything - a President, a Physicist, a Journalist, a Lawyer, or a Mermaid. Much like with the original toys, Ken ( Ryan Gosling ) comes as an afterthought and 'only exists within the warmth of Barbie's gaze'.The plot is set in motion when Barbie begins having thoughts about death and, normally suspended in the state of standing on the balls of her feet, she feels her heels hit the ground. \\n                                                Answer: \\n                                            \"]},\n",
       " 'documents': [<Document: {'content': \"Both were about girls on the precipice of adolescence, both had nuanced and layered portrayals of mother-daughter relationships, both combined imaginative visuals with clever dialogue. Both were very, very good. Given those credentials, one may expect Barbie to be as intelligent, convincing and amusing a picture - and, well, it isn't.The fantasy comedy begins in Barbie Land, a place where Barbie (played by Margot Robbie ) is having the best day every day, in the company of other Barbies and, occasionally, Kens. The designs, costumes, and cinematography do an excellent job re-creating the Mattel vision in its pink plastic perfection. The introduction is referential but not overtly reliant on what is external to the film; it is smartly self-aware and presents a world where Barbie can be anything - a President, a Physicist, a Journalist, a Lawyer, or a Mermaid. Much like with the original toys, Ken ( Ryan Gosling ) comes as an afterthought and 'only exists within the warmth of Barbie's gaze'.The plot is set in motion when Barbie begins having thoughts about death and, normally suspended in the state of standing on the balls of her feet, she feels her heels hit the ground. \", 'content_type': 'text', 'score': 0.6831885268399944, 'meta': {'url': 'https://imdb.com/title/tt1517268/reviews/', 'timestamp': 1696682003, 'search.score': 0.09473684210526317, 'search.position': 1, 'snippet_text': \"The quality, the humor, and the writing of the movie is fun for a while. It's quirky and it's unique. When they get into the weeds and try to explore deeper ...\", '_split_id': 1, 'vector_id': '44'}, 'id_hash_keys': ['content'], 'embedding': '<embedding of shape (768,)>', 'id': 'd50b5a310e8a57379d2ae6556fe6b8f'}>],\n",
       " 'root_node': 'Query',\n",
       " 'params': {'Retriever': {'top_k': 1}},\n",
       " 'query': 'What is the Barbie movie about',\n",
       " 'node_id': 'PromptNode'}"
      ]
     },
     "execution_count": 12,
     "metadata": {},
     "output_type": "execute_result"
    }
   ],
   "source": [
    "%%time\n",
    "query_pipeline.run(query = \"What is the Barbie movie about\", params={\"Retriever\" : {\"top_k\": 1}})"
   ]
  },
  {
   "cell_type": "code",
   "execution_count": null,
   "metadata": {},
   "outputs": [],
   "source": []
  }
 ],
 "metadata": {
  "kernelspec": {
   "display_name": "llm-pipelines",
   "language": "python",
   "name": "python3"
  },
  "language_info": {
   "codemirror_mode": {
    "name": "ipython",
    "version": 3
   },
   "file_extension": ".py",
   "mimetype": "text/x-python",
   "name": "python",
   "nbconvert_exporter": "python",
   "pygments_lexer": "ipython3",
   "version": "3.10.0"
  },
  "orig_nbformat": 4
 },
 "nbformat": 4,
 "nbformat_minor": 2
}
